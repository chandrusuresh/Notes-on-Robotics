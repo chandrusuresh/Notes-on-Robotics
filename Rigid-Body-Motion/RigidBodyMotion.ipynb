{
  "nbformat": 4,
  "nbformat_minor": 0,
  "metadata": {
    "colab": {
      "name": "RigidBodyMotion.ipynb",
      "provenance": [],
      "collapsed_sections": [
        "UZmY46otFNZe"
      ],
      "authorship_tag": "ABX9TyP3EhAK7SNvclQz1RyRbBJw",
      "include_colab_link": true
    },
    "kernelspec": {
      "name": "python3",
      "display_name": "Python 3"
    }
  },
  "cells": [
    {
      "cell_type": "markdown",
      "metadata": {
        "id": "view-in-github",
        "colab_type": "text"
      },
      "source": [
        "<a href=\"https://colab.research.google.com/github/chandrusuresh/Notes-on-Robotics/blob/main/Rigid-Body-Motion/RigidBodyMotion.ipynb\" target=\"_parent\"><img src=\"https://colab.research.google.com/assets/colab-badge.svg\" alt=\"Open In Colab\"/></a>"
      ]
    },
    {
      "cell_type": "markdown",
      "metadata": {
        "id": "gVVubTqNxwN0"
      },
      "source": [
        "# Rigid Body Motion\n",
        "A rigid body is a collection of particles such that the distance between any two particles remains fixed, regardless of any motions of the body or forces exerted on the body. A rigid body motion is a motion which preservers distance between points. \n"
      ]
    },
    {
      "cell_type": "markdown",
      "metadata": {
        "id": "A7v94_BdzLHg"
      },
      "source": [
        "## Screws, Twists & Wrenches\n",
        "` Screw Motion`: Any movement of a rigid body can be performed by a rotation about an axis and a translation parallel to the same axis.\n",
        "` Twist Motion`: is the infinitesimal version of a screw motion and provides a description of the instantaneous velocity of a rigid body in terms of its linear and angular components.\n",
        "Screws & Twists play a central role in the kinematics of robotics mechanisms.\n",
        "`Wrench`: is the dual to twists and describes the force acting on a rigid body that can be replaced by a force applied along a line and a torque about the same axis.\n",
        "\n",
        "## Advantages to Screw Theory\n",
        "1. Allow a global description of rigid body motion without any singularities due to the use of local coordinates.\n",
        "2. Provides a very geometric description of rigid motion which simplifies the analysis of mechanisms."
      ]
    },
    {
      "cell_type": "markdown",
      "metadata": {
        "id": "By7onKN2z4pe"
      },
      "source": [
        "## Rotational Motion in $\\mathbb{R}^3$\n",
        "The orientation of a body is described by giving the relative orientation between a coordinate frame attached to the body and a fixed or inertial coordinate frame.\n",
        "\n",
        "![Rotations](https://raw.githubusercontent.com/chandrusuresh/Notes-on-Robotics/main/Rigid-Body-Motion/images/Rotation.PNG)\n",
        "\n",
        "The rotation matrix of the body frame $B$ w.r.t the inertial frame $A$ is given by: $R_{AB} = \\left[\\begin{matrix}x_{AB} & y_{AB} & z_{AB}\\end{matrix}\\right]$ where $x_{AB}$, $y_{AB}$ & $z_{AB}$ are the coordinates of the principal axes of the frame $B$ w.r.t $A$.\n"
      ]
    },
    {
      "cell_type": "markdown",
      "metadata": {
        "id": "JaPmcmJp_UoI"
      },
      "source": [
        "### Properties of Rotation Matrices\n",
        "1. Columns of $R$ are mutually orthonormal. i.e. $r_{i}^T r_{j} = \\Bigg\\{ \\begin{matrix} 0\\text{, if}\\quad i \\ne j \\\\ 1\\text{, if} \\quad i= j\\end{matrix}$ where $r_i$ represents the columns of $R$.\n",
        "2. Orthonormal columns imply: $R^T R = R R^T = I$.\n",
        "3. A right handed system implies: $r_1 \\times r_2 = r_3 \\text{,} \\quad r_2 \\times r_3 = r_1 \\text{,} \\quad r_3 \\times r_1 = r_2$\n",
        "3. $\\det R = \\pm 1$\n",
        "4. $R$ preserves distance. $\\Vert R\\:a-R\\:b\\Vert = \\Vert a-b \\Vert$\n",
        "5. $R$ preserves rotation. $R\\:(a \\times b) = R \\: a \\times R \\: b$\n",
        "\n",
        "The rotation matrix serves as the transformation of a point from one frame to another. A point $q_B = \\left[ \\begin{matrix} x_B\\\\y_B\\\\z_B \\end{matrix}\\right]$ in the $B$ frame can be represented in the $A$ frame by: $q_A = R_{AB} \\: q_B$."
      ]
    },
    {
      "cell_type": "markdown",
      "metadata": {
        "id": "bf3NJrrI_YF-"
      },
      "source": [
        "### Exponential Coordinates of Rotation\n",
        "To represent the rotation of a rigid body about an axis, we wish to represent the rotation matrix by an angle $\\theta$ about the axis $w$.\n",
        "Suppose a body is rotated at *constant* unit velocity about an axis $w$,\n",
        "$$ \\dot{q}_t = w \\times q_t = \\hat{w} \\: q_t$$\n",
        "\n",
        "The solution to this time-invariant differential equation is: $q(t) = e^{\\hat{w}t}\\:q_0$ where $\\hat{w}$ is the skew-symmetric matrix defined as:\n",
        "\n",
        "$$ \\hat{w} = \\left[ \\begin{matrix} 0 & -w_3 & w_2 \\\\ w_3 & 0 & -w_1 \\\\ -w_2 & w_1 & 0\\end{matrix}\\right]$$\n",
        "\n",
        "The matrix exponential is given by:\n",
        "$$ e^{\\hat{w} t} = I + \\hat{w}t + \\frac{(\\hat{w}t)^2}{2!} + \\frac{(\\hat{w}t)^3}{3!} + \\ldots $$\n",
        "\n",
        "So the rotation matrix is repsented as: $R(w,\\theta) = e^{\\hat{w} \\theta}$"
      ]
    },
    {
      "cell_type": "markdown",
      "metadata": {
        "id": "Nb7ov6vhB75v"
      },
      "source": [
        "#### Skew Symmetric Matrix\n",
        "The following properties hold for the skew symmetric matrix:\n",
        "$$\\begin{align} \\hat{w}^2 &= ww^T - \\Vert w\\Vert^2 I \\\\\n",
        "\\hat{w}^3 &= -\\Vert w\\Vert^2 \\hat{w} \\\\\n",
        "\\hat{w} &= -\\hat{w}^T \\\\\n",
        "R \\hat{w} R^T &= \\hat{R w}\\end{align}$$\n",
        "\n",
        "\n",
        "---\n",
        "\n"
      ]
    },
    {
      "cell_type": "markdown",
      "metadata": {
        "id": "Z38v7lkgClfI"
      },
      "source": [
        "### Rodrigues' Formula\n",
        "Utilizing the above two equations, the matrix exponential for a skew symmetric matrix can be simplified to:\n",
        "$$\\begin{align} e^{\\hat{w} \\theta} &= I + \\left(\\theta - \\frac{\\theta^3}{3!} + \\frac{\\theta^5}{5!} - \\ldots \\right) \\hat{w} + \\left(\\frac{\\theta^2}{2!} - \\frac{\\theta^4}{4!} + \\frac{\\theta^6}{6!} - \\ldots \\right) \\hat{w}^2\\\\\n",
        " &= I + \\hat{w} \\sin \\theta + \\hat{w}^2 (1-\\cos \\theta) \\end{align}$$"
      ]
    },
    {
      "cell_type": "markdown",
      "metadata": {
        "id": "aax0fg0dD4r9"
      },
      "source": [
        "#### Computing $\\hat{w},\\theta$ from $R$\n",
        "Expaning the terms from above and equating the terms:\n",
        "$$ \\begin{align} \\theta &= \\cos^{-1}\\left( \\frac{\\text{trace}(R)-1}{2}\\right) \\\\\n",
        "w &= \\frac{1}{2 \\sin \\theta} \\left[ \\begin{matrix} r_{32} - r_{23}\\\\ r_{13} - r_{31}\\\\ r_{21} - r_{12}\\end{matrix} \\right]\\end{align}$$"
      ]
    },
    {
      "cell_type": "markdown",
      "metadata": {
        "id": "UZmY46otFNZe"
      },
      "source": [
        "## Rigid Motion in $\\mathbb{R}^3$\n",
        "A rigid motion consists of rotation and translation. We describe the motion of a frame $B$ relative to frame $A$ by $g_{AB} = (p_{AB},R_{AB})$ where position and orientation of the body frame $B$ relative to an inertial frame $A$ by $p_{AB}$ and $R_{AB}$ are as shown in the figure below.\n",
        "![RigidMotion](https://raw.githubusercontent.com/chandrusuresh/Notes-on-Robotics/main/Rigid-Body-Motion/images/RigidMotion.PNG)\n",
        "\n",
        "The coordinates of the point $q$ in the $A$ frame can then be expressed as: $q_A = p_{AB} + R_{AB}\\:q_B$.\n"
      ]
    },
    {
      "cell_type": "markdown",
      "metadata": {
        "id": "jv2nYJeFHbOq"
      },
      "source": [
        "### Homogeneous Representation\n",
        "The transformation of points and vectors by rigid transformations has a simple representation in terms of matrices & vectors in $\\mathbb{R}^4$ by the homogeneous coorindates given by $ \\bar{q} = \\left[\\begin{matrix} q_1 \\\\ q_2 \\\\ q_3 \\\\ 1\\end{matrix} \\right]$\n",
        "\n",
        "The motion transformation can then be expressed as $ \\bar{q}_A = \\left[ \\begin{matrix} q_A \\\\ 1 \\end{matrix} \\right] = \\left[ \\begin{matrix} R_{AB} & p_{AB} \\\\ 0 & 1 \\end{matrix} \\right] \\left[ \\begin{matrix} q_B \\\\ 1 \\end{matrix} \\right] =\\:: \\bar{g}_{AB} \\: \\bar{q}_B$.\n",
        "\n",
        "The homogeneous representation is then expressed as the matrix: $ \\bar{g} = \\left[ \\begin{matrix} R & p \\\\ 0 & 1 \\end{matrix} \\right]$"
      ]
    },
    {
      "cell_type": "markdown",
      "metadata": {
        "id": "ps6ReXvxIoO0"
      },
      "source": [
        "#### Properties of Homogeneous Transformations\n",
        "1. $\\bar{g}_{AC} = \\bar{g}_{AB} \\: \\bar{g}_{BC} = \\left[ \\begin{matrix} R_{AB} \\: R_{BC} & R_{AB}\\:p_{BC} + p_{AB} \\\\ 0 & 1 \\end{matrix} \\right]$\n",
        "2. $\\bar{g}^{-1} = \\left[ \\begin{matrix} R^T & -R^T \\: p \\\\ 0 & 1 \\end{matrix} \\right]$ so that $g^{-1} = (-R^T \\: p, R^T)$\n"
      ]
    },
    {
      "cell_type": "markdown",
      "metadata": {
        "id": "DRfsihWoJksR"
      },
      "source": [
        "### Exponential Coordinates for Rigid Motion & Twists\n",
        "Consider a one-link robot with a revolute joint as in the figure below.\n",
        "\n",
        "![Revolute_Prismatic_Joints](https://raw.githubusercontent.com/chandrusuresh/Notes-on-Robotics/main/Rigid-Body-Motion/images/Revolute_Prismatic_Joints.PNG)\n",
        "\n",
        "Assume $w$ as the rotation axis passing through the point $q$, with $\\Vert w \\Vert = 1$, the velocity of the tip point, $p$ is expressed as $\\dot{p} = w \\times (p-q)$.\n",
        "This can be simplified by defining a homogeneous coordinate matrix $\\hat{\\xi}$:\n",
        "$$ \\hat{\\xi} = \\left[\\begin{matrix} \\hat{w} & v \\\\ 0 & 0\\end{matrix}\\right]$$ with $v = -w \\times q$.\n",
        "\n",
        "The above equation can then be written as:\n",
        "$$ \\begin{align} \\left[ \\begin{matrix} \\dot{p} \\\\ 0 \\end{matrix} \\right] &= \\left[\\begin{matrix} \\hat{w} & -w \\times q \\\\ 0 & 0\\end{matrix}\\right] \\left[ \\begin{matrix} p \\\\ 1 \\end{matrix} \\right] \\\\\n",
        "\\Rightarrow \\dot{\\bar{p}} &= \\hat{\\xi} \\bar{p}\\end{align}$$\n",
        "\n",
        "The solution to the above is given by $\\bar{p} = e^{\\hat{\\xi}t}\\:\\bar{p}_0$\n",
        "\n",
        "The twist on the rigid body is expressed as $\\xi :\\:= (v,w)$ and the exponential form is given by:\n",
        "$$ \\begin{align} e^{\\hat{\\xi} \\theta} &= \\left[\\begin{matrix} e^{\\hat{w} \\theta} & (I-e^{\\hat{w} \\theta}) (w \\times v) + w w^T v \\theta \\\\ 0 & 1\\end{matrix}\\right] \\\\\n",
        "&= \\left[\\begin{matrix} e^{\\hat{w} \\theta} & \\left((I-e^{\\hat{w} \\theta}) \\hat{w} + w\\:w^T \\theta\\right) v \\\\ 0 & 1\\end{matrix}\\right] \\end{align}$$\n",
        "\n",
        "\n",
        "\n"
      ]
    },
    {
      "cell_type": "markdown",
      "metadata": {
        "id": "FpXGI8SdA_dS"
      },
      "source": [
        "### Screws: A geometric description of twists\n",
        "A screw motion is a rotation about an axis followed by a translation along the same axis as shown in the figure below.\n",
        "![Screw](https://raw.githubusercontent.com/chandrusuresh/Notes-on-Robotics/main/Rigid-Body-Motion/images/Screw.PNG)\n",
        "\n",
        "The pitch of a screw is defined as the ratio of translation to rotation, $h = \\frac{v}{\\dot{\\theta}}$.\n",
        "A screw axis consists of an axis $l$, a pitch $h$ and a magnitude $M$. A screw motion represents a rotation by an amount $M$ about the axis $l$ followed by a translation by an amount $h \\theta$ along the axis $l$.\n",
        "\n",
        "The final location of a point p in the figure below is given by:\n",
        "\n",
        "![ScrewMotion](https://raw.githubusercontent.com/chandrusuresh/Notes-on-Robotics/main/Rigid-Body-Motion/images/ScrewMotion.PNG)\n",
        "\n",
        "$$\\begin{align}\\bar{p}_{new} &= q + e^{\\hat{w} \\theta} (p-q) + h \\theta w \\\\\n",
        "&= \\left[\\begin{matrix} e^{\\hat{w} \\theta} & (I-e^{\\hat{w} \\theta}) q + h \\theta w \\\\ 0 & 1 \\end{matrix} \\right] \\left[\\begin{matrix} p \\\\ 1\\end{matrix} \\right]\\end{align}$$\n",
        "\n",
        "This is the same expression as $e^{\\hat{\\xi} \\theta}$ obtained above by setting $v = -w \\times q + h w$."
      ]
    },
    {
      "cell_type": "markdown",
      "metadata": {
        "id": "QCFeCY6P4dsA"
      },
      "source": [
        "## Velocity of a Rigid Body\n",
        "Referring to the following figure, a reference frame with unit axes $x$,$y$ & $z$ is rotated about an axis with $w$ with angular velocity $\\Vert w \\Vert$, the rate of change of the unit axes is given by:\n",
        "![AngularVelocity](https://raw.githubusercontent.com/chandrusuresh/Notes-on-Robotics/main/Rigid-Body-Motion/images/AngularVelocity.PNG)\n",
        "\n",
        "$$ \\begin{align} \\dot{x} &= w \\times x \\\\ \n",
        "\\dot{y} &= w \\times y \\\\ \n",
        "\\dot{z} &= w \\times z \\\\ \\end{align}$$\n",
        "\n",
        "The rotation matrix derivative is then given as: $ \\dot{R} = \\left[\\begin{matrix} \\dot{x} & \\dot{y} & \\dot{z} \\end{matrix} \\right] = w \\times \\left[\\begin{matrix} x&y&z \\end{matrix} \\right] = w \\times R$\n",
        "$$ \\Rightarrow \\dot{R} = \\hat{w} R$$\n",
        "\n",
        "Thus the angular velocity of the $B$ frame w.r.t the $A$ frame as measured in the fixed frame is given by: $\\hat{w_A} = \\dot{R}R^T$ while the angular velocity of the $B$ frame w.r.t the $A$ frame as measured in the body frame is given by $\\hat{w}_B = R^T \\dot{R}$\n",
        "\n",
        "\n"
      ]
    },
    {
      "cell_type": "markdown",
      "metadata": {
        "id": "dKh8Zt68Hz6q"
      },
      "source": [
        "The homogeneous transformation is given by, $ \\bar{g}(t) = \\left[ \\begin{matrix} R(t) & p(t) \\\\ 0 & 1 \\end{matrix} \\right]$\n",
        "We have that,\n",
        "$$ \\begin{align} \\dot{g} g^{-1} &= \\left[\\begin{matrix} \\dot{R} & \\dot{p} \\\\ 0 & 0\\end{matrix} \\right] \\left[\\begin{matrix}  R^T & -R^Tp \\\\ 0 & 1 \\end{matrix}\\right] \\\\\n",
        "&= \\left[\\begin{matrix} \\dot{R}R^T & -\\dot{R}R^Tp + \\dot{p} \\\\ 0 & 0\\end{matrix} \\right] \\\\\n",
        "&= \\hat{V}_s\\end{align}$$\n",
        "which has the form of a twist, $\\hat{V}_s$ in the fixed/inertial frame. The twist vector can therefore be expressed as:\n",
        "$$ V_s = \\left[\\begin{matrix} v \\\\ w \\end{matrix} \\right] = \\left[\\begin{matrix} -\\dot{R}R^T + \\dot{p} \\\\ \\left(\\dot{R} R^T \\right)\\check{} \\end{matrix} \\right] $$\n",
        "\n",
        "The velocity w.r.t the body frame $\\hat{V}_b$ is given by,\n",
        "$$ \\hat{V}_b = g^{-1} \\dot{g} = \\left[\\begin{matrix} R^T\\dot{R} & R^T \\dot{p} \\\\ 0 & 0\\end{matrix} \\right]$$\n",
        "\n",
        "To convert the twist vector from the body frame to the inertial frame,\n",
        "$$ \\begin{align} V_s &= \\left[\\begin{matrix} v_s \\\\ w_s \\end{matrix} \\right] = \\left[\\begin{matrix} R & \\hat{p}R \\\\ 0 & R \\end{matrix} \\right] \\left[\\begin{matrix} v_b \\\\ w_b \\end{matrix} \\right] \\\\ \n",
        "V_s &= \\text{Ad}_{\\text{g}}V_b\\end{align}$$\n",
        "where $\\text{Ad}_{\\text{g}} = \\left[\\begin{matrix} R & \\hat{p}R \\\\ 0 & R \\end{matrix} \\right]$.\n",
        "The adjoint transformation is invertible and $\\text{Ad}_{\\text{g}}^{-1} = \\left[\\begin{matrix} R^T & -R^T\\hat{p} \\\\ 0 & R^T \\end{matrix} \\right] = \\text{Ad}_{\\text{g}^{-1}}$"
      ]
    },
    {
      "cell_type": "markdown",
      "metadata": {
        "id": "tpifbPLwIZXQ"
      },
      "source": [
        "$$\\left[\\begin{matrix} \\end{matrix} \\right]$$"
      ]
    }
  ]
}