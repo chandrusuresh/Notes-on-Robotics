{
  "nbformat": 4,
  "nbformat_minor": 0,
  "metadata": {
    "colab": {
      "name": "RigidBodyMotion.ipynb",
      "provenance": [],
      "collapsed_sections": [],
      "authorship_tag": "ABX9TyNSUYgtUqqbJ0zIc0OJEPaf",
      "include_colab_link": true
    },
    "kernelspec": {
      "name": "python3",
      "display_name": "Python 3"
    }
  },
  "cells": [
    {
      "cell_type": "markdown",
      "metadata": {
        "id": "view-in-github",
        "colab_type": "text"
      },
      "source": [
        "<a href=\"https://colab.research.google.com/github/chandrusuresh/Notes-on-Robotics/blob/main/RigidBodyMotion.ipynb\" target=\"_parent\"><img src=\"https://colab.research.google.com/assets/colab-badge.svg\" alt=\"Open In Colab\"/></a>"
      ]
    },
    {
      "cell_type": "markdown",
      "metadata": {
        "id": "gVVubTqNxwN0"
      },
      "source": [
        "# Rigid Body Motion\n",
        "A rigid body is a collection of particles such that the distance between any two particles remains fixed, regardless of any motions of the body or forces exerted on the body. A rigid body motion is a motion which preservers distance between points. \n"
      ]
    },
    {
      "cell_type": "markdown",
      "metadata": {
        "id": "A7v94_BdzLHg"
      },
      "source": [
        "## Screws, Twists & Wrenches\n",
        "` Screw Motion`: Any movement of a rigid body can be performed by a rotation about an axis and a translation parallel to the same axis.\n",
        "` Twist Motion`: is the infinitesimal version of a screw motion and provides a description of the instantaneous velocity of a rigid body in terms of its linear and angular components.\n",
        "Screws & Twists play a central role in the kinematics of robotics mechanisms.\n",
        "`Wrench`: is the dual to twists and describes the force acting on a rigid body that can be replaced by a force applied along a line and a torque about the same axis.\n",
        "\n",
        "## Advantages to Screw Theory\n",
        "1. Allow a global description of rigid body motion without any singularities due to the use of local coordinates.\n",
        "2. Provides a very geometric description of rigid motion which simplifies the analysis of mechanisms."
      ]
    },
    {
      "cell_type": "markdown",
      "metadata": {
        "id": "By7onKN2z4pe"
      },
      "source": [
        "## Rotational Motion in $\\mathbb{R}^3$\n",
        "The orientation of a body is described by giving the relative orientation between a coordinate frame attached to the body and a fixed or inertial coordinate frame."
      ]
    },
    {
      "cell_type": "code",
      "metadata": {
        "id": "roQC1pBNx39G"
      },
      "source": [
        ""
      ],
      "execution_count": null,
      "outputs": []
    }
  ]
}